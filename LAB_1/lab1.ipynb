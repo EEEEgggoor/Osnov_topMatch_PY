{
 "cells": [
  {
   "cell_type": "markdown",
   "id": "a4f805eb-7236-41d1-bccf-7ba7dfcbadfd",
   "metadata": {},
   "source": [
    "«Упражнение 1»"
   ]
  },
  {
   "cell_type": "code",
   "execution_count": 3,
   "id": "7baba725-8253-448e-be02-9ad00c649935",
   "metadata": {},
   "outputs": [
    {
     "data": {
      "text/plain": [
       "6"
      ]
     },
     "execution_count": 3,
     "metadata": {},
     "output_type": "execute_result"
    }
   ],
   "source": [
    "2*3"
   ]
  },
  {
   "cell_type": "code",
   "execution_count": 5,
   "id": "6be474cd-2148-43ca-b63a-e5fd3cc79a4f",
   "metadata": {},
   "outputs": [
    {
     "name": "stdout",
     "output_type": "stream",
     "text": [
      "7\n"
     ]
    }
   ],
   "source": [
    "k=3+4; print(k)"
   ]
  },
  {
   "cell_type": "code",
   "execution_count": 7,
   "id": "706b7d86-de78-456b-b712-d921dad2a324",
   "metadata": {},
   "outputs": [
    {
     "data": {
      "text/plain": [
       "48"
      ]
     },
     "execution_count": 7,
     "metadata": {},
     "output_type": "execute_result"
    }
   ],
   "source": [
    "(k+1)*(k-1)"
   ]
  },
  {
   "cell_type": "code",
   "execution_count": 9,
   "id": "32a2c97d-984d-47de-b4d4-6b9995744d71",
   "metadata": {},
   "outputs": [
    {
     "name": "stdin",
     "output_type": "stream",
     "text": [
      " 5\n"
     ]
    },
    {
     "data": {
      "text/plain": [
       "24"
      ]
     },
     "execution_count": 9,
     "metadata": {},
     "output_type": "execute_result"
    }
   ],
   "source": [
    "x = int(input())\n",
    "(x+1)*(x-1)"
   ]
  },
  {
   "cell_type": "code",
   "execution_count": 11,
   "id": "0d9d0a04-4504-47f2-8103-16741da0e5ba",
   "metadata": {},
   "outputs": [
    {
     "name": "stdout",
     "output_type": "stream",
     "text": [
      "44\n"
     ]
    }
   ],
   "source": [
    "h=(k+2)*3+\\\n",
    "3+(k+7)\n",
    "print(h)"
   ]
  },
  {
   "cell_type": "markdown",
   "id": "8682d678-5d27-488e-9cbd-beef07711e97",
   "metadata": {},
   "source": [
    "«Упражнение 2»"
   ]
  },
  {
   "cell_type": "code",
   "execution_count": 24,
   "id": "7db83037-3e8a-437f-bc40-7e11d631687d",
   "metadata": {},
   "outputs": [
    {
     "name": "stdin",
     "output_type": "stream",
     "text": [
      "Once deleted, variables cannot be recovered. Proceed (y/[n])?  y\n"
     ]
    }
   ],
   "source": [
    "%reset"
   ]
  },
  {
   "cell_type": "code",
   "execution_count": 26,
   "id": "60de4f84-c792-45c6-97a9-7668fc0b54c4",
   "metadata": {},
   "outputs": [
    {
     "name": "stdin",
     "output_type": "stream",
     "text": [
      " 1\n"
     ]
    }
   ],
   "source": [
    "x = int(input())"
   ]
  },
  {
   "cell_type": "code",
   "execution_count": 28,
   "id": "dbfb411d-06b3-4772-9ebe-945e86e78a6b",
   "metadata": {},
   "outputs": [
    {
     "name": "stdin",
     "output_type": "stream",
     "text": [
      " 2\n"
     ]
    }
   ],
   "source": [
    "y = int(input())"
   ]
  },
  {
   "cell_type": "code",
   "execution_count": 30,
   "id": "711a4072-6ca9-4e3d-9b1f-e8e067e6eadf",
   "metadata": {},
   "outputs": [
    {
     "name": "stdin",
     "output_type": "stream",
     "text": [
      " 3\n"
     ]
    }
   ],
   "source": [
    "z = int(input())"
   ]
  },
  {
   "cell_type": "code",
   "execution_count": 32,
   "id": "3af8878d-afdb-4395-a2d7-ab86b69f7e65",
   "metadata": {},
   "outputs": [
    {
     "name": "stdin",
     "output_type": "stream",
     "text": [
      " 4\n"
     ]
    }
   ],
   "source": [
    "t = int(input())"
   ]
  },
  {
   "cell_type": "code",
   "execution_count": 34,
   "id": "6d308388-7be5-4ee0-b447-db366997b238",
   "metadata": {},
   "outputs": [
    {
     "name": "stdout",
     "output_type": "stream",
     "text": [
      "Variable               Type        Data/Info\n",
      "--------------------------------------------\n",
      "dataframe_columns      function    <function dataframe_colum<...>ns at 0x00000134C273C220>\n",
      "dataframe_hash         function    <function dataframe_hash at 0x00000134C108D760>\n",
      "dtypes_str             function    <function dtypes_str at 0x00000134C272F100>\n",
      "get_dataframes         function    <function get_dataframes at 0x00000134C108D3A0>\n",
      "getpass                module      <module 'getpass' from 'D<...>aconda\\\\Lib\\\\getpass.py'>\n",
      "hashlib                module      <module 'hashlib' from 'D<...>aconda\\\\Lib\\\\hashlib.py'>\n",
      "import_pandas_safely   function    <function import_pandas_s<...>ly at 0x00000134C273C5E0>\n",
      "is_data_frame          function    <function is_data_frame at 0x00000134C273C540>\n",
      "json                   module      <module 'json' from 'D:\\\\<...>\\Lib\\\\json\\\\__init__.py'>\n",
      "t                      int         4\n",
      "x                      int         1\n",
      "y                      int         2\n",
      "z                      int         3\n"
     ]
    }
   ],
   "source": [
    "%whos"
   ]
  },
  {
   "cell_type": "code",
   "execution_count": 36,
   "id": "8fabb869-f2b9-4a78-8b96-472c62d6df13",
   "metadata": {},
   "outputs": [],
   "source": [
    "del(x)"
   ]
  },
  {
   "cell_type": "code",
   "execution_count": 38,
   "id": "bc3b35b4-3c14-40c6-9f42-7e1ef731ec4b",
   "metadata": {},
   "outputs": [
    {
     "name": "stdout",
     "output_type": "stream",
     "text": [
      "Variable               Type        Data/Info\n",
      "--------------------------------------------\n",
      "dataframe_columns      function    <function dataframe_colum<...>ns at 0x00000134C273C5E0>\n",
      "dataframe_hash         function    <function dataframe_hash at 0x00000134C273C220>\n",
      "dtypes_str             function    <function dtypes_str at 0x00000134C273C540>\n",
      "get_dataframes         function    <function get_dataframes at 0x00000134C273C360>\n",
      "getpass                module      <module 'getpass' from 'D<...>aconda\\\\Lib\\\\getpass.py'>\n",
      "hashlib                module      <module 'hashlib' from 'D<...>aconda\\\\Lib\\\\hashlib.py'>\n",
      "import_pandas_safely   function    <function import_pandas_s<...>ly at 0x00000134C108F9C0>\n",
      "is_data_frame          function    <function is_data_frame at 0x00000134C108D3A0>\n",
      "json                   module      <module 'json' from 'D:\\\\<...>\\Lib\\\\json\\\\__init__.py'>\n",
      "t                      int         4\n",
      "y                      int         2\n",
      "z                      int         3\n"
     ]
    }
   ],
   "source": [
    "%whos"
   ]
  },
  {
   "cell_type": "markdown",
   "id": "710d8fe0-bea1-4e14-9994-67463acb5c87",
   "metadata": {},
   "source": [
    "«Упражнение 3»"
   ]
  },
  {
   "cell_type": "code",
   "execution_count": 41,
   "id": "e443ef4e-7fac-47f6-bacb-fb66f46484a6",
   "metadata": {},
   "outputs": [
    {
     "name": "stdout",
     "output_type": "stream",
     "text": [
      "0.19047619047619047\n",
      "16.0625\n",
      "4.923076923076923\n"
     ]
    }
   ],
   "source": [
    "x = (1/3) - (1/7)\n",
    "y = 2**4 + 2**(-4)\n",
    "z = (3+0.2)/(1-0.35)\n",
    "print(x, y, z, sep = '\\n')"
   ]
  },
  {
   "cell_type": "code",
   "execution_count": 43,
   "id": "e253e973-d84f-4bee-9343-75efe5a75d43",
   "metadata": {},
   "outputs": [
    {
     "name": "stdout",
     "output_type": "stream",
     "text": [
      "0.19047619047619047, 16.0625, 4.923076923076923\n"
     ]
    }
   ],
   "source": [
    "print(x, y, z, sep = ', ')"
   ]
  },
  {
   "cell_type": "code",
   "execution_count": 49,
   "id": "0cf2338e-5513-414b-912c-98f33b6790a2",
   "metadata": {},
   "outputs": [
    {
     "name": "stdout",
     "output_type": "stream",
     "text": [
      "   0.190\n",
      "  16.062\n",
      "   4.923\n"
     ]
    }
   ],
   "source": [
    "print(format(x, '>8.3f'), format(y, '>8.3f'), format(z, '>8.3f'), sep = '\\n')\n"
   ]
  },
  {
   "cell_type": "code",
   "execution_count": 57,
   "id": "eccd1a83-6c44-43cb-8677-c89849f817a0",
   "metadata": {},
   "outputs": [
    {
     "name": "stdout",
     "output_type": "stream",
     "text": [
      "    0.19    \n",
      "     16     \n",
      "    4.9     \n"
     ]
    }
   ],
   "source": [
    "print(format(x, '^12.2g'), format(y, '^12.2g'), format(z, '^12.2g'), sep = '\\n')"
   ]
  },
  {
   "cell_type": "markdown",
   "id": "5ad092b1-cc38-4ca4-ab27-882a6f2bec37",
   "metadata": {},
   "source": [
    "«Упражнение 4»"
   ]
  },
  {
   "cell_type": "code",
   "execution_count": 87,
   "id": "dd559d98-537c-40a1-a9f3-10ff8dedb163",
   "metadata": {},
   "outputs": [
    {
     "name": "stdout",
     "output_type": "stream",
     "text": [
      "False\n",
      "True\n",
      "False\n",
      "True\n"
     ]
    }
   ],
   "source": [
    "x = 8.2*1.3 + 37.1 + 6.03\n",
    "y = 7.8 * (5 - 0.9) + 22.07\n",
    "res = x == y\n",
    "print(res)\n",
    "print(x != y)\n",
    "print(x > y)\n",
    "print(x < y)"
   ]
  },
  {
   "cell_type": "markdown",
   "id": "fd63b1eb-3e5f-482a-9f53-664a853f6981",
   "metadata": {},
   "source": [
    "«Упражнение 5»"
   ]
  },
  {
   "cell_type": "code",
   "execution_count": 75,
   "id": "de64b10d-f64d-46a3-973a-95ef05173814",
   "metadata": {},
   "outputs": [
    {
     "name": "stdout",
     "output_type": "stream",
     "text": [
      "3.141592653589793\n",
      "2.718281828459045\n"
     ]
    }
   ],
   "source": [
    "import numpy as np\n",
    "print(np.pi)\n",
    "print(np.e)"
   ]
  },
  {
   "cell_type": "markdown",
   "id": "8f9d09a4-5d85-4dfd-b995-3e9062cae2f4",
   "metadata": {},
   "source": [
    "«Упражнение 6»"
   ]
  },
  {
   "cell_type": "code",
   "execution_count": 80,
   "id": "d636ddd5-ef45-4677-82ce-ad6a75b201f7",
   "metadata": {},
   "outputs": [
    {
     "name": "stdout",
     "output_type": "stream",
     "text": [
      "2.8951125538319022\n"
     ]
    }
   ],
   "source": [
    "import numpy as np\n",
    "a = np.log((np.e)**3 - 2) * ((np.sin(1))**2 + (np.cos(1))**2)**0.5\n",
    "print(a)"
   ]
  },
  {
   "cell_type": "markdown",
   "id": "9846cad5-ed57-4f56-8ef4-a5d937cafd1e",
   "metadata": {},
   "source": [
    "«Упражнение 7»"
   ]
  },
  {
   "cell_type": "code",
   "execution_count": 111,
   "id": "767bcf8b-26f6-450d-ac61-f66092f4446a",
   "metadata": {},
   "outputs": [
    {
     "name": "stdin",
     "output_type": "stream",
     "text": [
      "Введите вещественное число a =  1.1\n",
      "Введите вещественное число b =  1.2\n",
      "Введите целое число c =  2\n",
      "Введите целое число d =  3\n"
     ]
    },
    {
     "name": "stdout",
     "output_type": "stream",
     "text": [
      "2.3603282106129484;2.2660033533255683\n"
     ]
    }
   ],
   "source": [
    "import numpy as np\n",
    "\n",
    "a = float(input('Введите вещественное число a = '))\n",
    "\n",
    "b = float(input('Введите вещественное число b = '))\n",
    "\n",
    "c = int(input('Введите целое число c = '))\n",
    "\n",
    "d = int(input('Введите целое число d = '))\n",
    "\n",
    "x = (5 * c**0.5 - d*np.sin(a+b))/((c+d)*(d - 2*a)**4)\n",
    "\n",
    "y = np.abs(2**a + (np.e)**(b - a*d))\n",
    "\n",
    "print(x, y, sep = ';')"
   ]
  },
  {
   "cell_type": "code",
   "execution_count": 113,
   "id": "14f82ee0-46f4-4cb5-b42d-14dcac9316e3",
   "metadata": {},
   "outputs": [
    {
     "name": "stdout",
     "output_type": "stream",
     "text": [
      "2.360\n",
      "2.266\n"
     ]
    }
   ],
   "source": [
    "print(format(x, '<0.3f'), format(y, '<0.3f'), sep = '\\n')"
   ]
  },
  {
   "cell_type": "code",
   "execution_count": 119,
   "id": "3060b497-f670-4612-831f-fb9b8761d713",
   "metadata": {},
   "outputs": [
    {
     "name": "stdout",
     "output_type": "stream",
     "text": [
      "                                                                                                 2.4\n",
      "                                                                                                 2.3\n"
     ]
    }
   ],
   "source": [
    "print(format(x, '>100.2g'), format(y, '>100.2g'), sep = '\\n')"
   ]
  },
  {
   "cell_type": "code",
   "execution_count": null,
   "id": "520c263e-67ff-40c6-8646-779ae2b2be2a",
   "metadata": {},
   "outputs": [],
   "source": []
  }
 ],
 "metadata": {
  "kernelspec": {
   "display_name": "Python 3 (ipykernel)",
   "language": "python",
   "name": "python3"
  },
  "language_info": {
   "codemirror_mode": {
    "name": "ipython",
    "version": 3
   },
   "file_extension": ".py",
   "mimetype": "text/x-python",
   "name": "python",
   "nbconvert_exporter": "python",
   "pygments_lexer": "ipython3",
   "version": "3.12.4"
  }
 },
 "nbformat": 4,
 "nbformat_minor": 5
}
